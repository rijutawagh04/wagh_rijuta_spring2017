{
 "cells": [
  {
   "cell_type": "markdown",
   "metadata": {},
   "source": [
    "# Question 5\n",
    "-Use Gutenberg and Web_text data. Find out what are the top 5 words that Shakespeare used but we do not use in currently.\n",
    "-Take top 50 words from Shakespeare (all 3 books) and top 50 from Web_text (all the records).\n",
    "-Remove punctuation and stop words.\n",
    "-Remove the words we still use today, and get the unused list. Show the top 5 elements."
   ]
  },
  {
   "cell_type": "code",
   "execution_count": 3,
   "metadata": {
    "collapsed": true
   },
   "outputs": [],
   "source": [
    "import nltk\n",
    "from nltk.corpus import gutenberg\n",
    "from nltk.corpus import webtext\n",
    "\n"
   ]
  },
  {
   "cell_type": "code",
   "execution_count": 9,
   "metadata": {
    "collapsed": false
   },
   "outputs": [
    {
     "name": "stdout",
     "output_type": "stream",
     "text": [
      " Top 50 words from Shakespeare :\n",
      " [('haue', 448), ('ham', 337), ('thou', 312), ('shall', 300), ('lord', 293), ('come', 232), ('king', 231), ('enter', 230), ('good', 218), ('let', 217), ('thy', 202), ('caesar', 193), ('vs', 184), ('know', 176), ('thee', 174), ('would', 170), ('brutus', 162), ('vpon', 162), ('like', 162), ('bru', 153), ('well', 152), ('hath', 144), ('selfe', 143), ('man', 139), ('may', 138), ('macb', 137), ('yet', 136), ('heere', 135), ('must', 130), ('say', 130), ('tis', 129), ('th', 125), ('loue', 119), ('speake', 119), ('make', 119), ('giue', 118), ('see', 116), ('time', 115), ('sir', 114), ('night', 114), ('one', 112), ('st', 110), ('cassi', 107), ('ile', 106), ('doe', 103), ('hamlet', 100), ('go', 100), ('men', 96), ('hor', 95), ('vp', 94)]\n"
     ]
    }
   ],
   "source": [
    "File = []\n",
    "File.extend(gutenberg.words('shakespeare-caesar.txt'))\n",
    "File.extend(gutenberg.words('shakespeare-hamlet.txt'))\n",
    "File.extend(gutenberg.words('shakespeare-macbeth.txt'))\n",
    "from collections import Counter\n",
    "shakespeare = [F.lower() for F in File]\n",
    "from nltk.corpus import stopwords\n",
    "filter_file = [word for word in shakespeare if word not in stopwords.words('english')]\n",
    "sh = []\n",
    "for h in filter_file:\n",
    "    if h.isalpha():\n",
    "        sh.append(h)\n",
    "#print(sh)\n",
    "from collections import Counter\n",
    "shakespeare = Counter(sh)\n",
    "top_50_shakespeare = shakespeare.most_common(50)\n",
    "print(\" Top 50 words from Shakespeare :\\n\",top_50_shakespeare)"
   ]
  },
  {
   "cell_type": "code",
   "execution_count": 11,
   "metadata": {
    "collapsed": false
   },
   "outputs": [
    {
     "name": "stdout",
     "output_type": "stream",
     "text": [
      "Top 50 words from Webtext :\n",
      " [('girl', 2956), ('guy', 2751), ('like', 1696), ('man', 1075), ('know', 1025), ('woman', 998), ('yeah', 895), ('page', 887), ('firefox', 879), ('get', 869), ('new', 790), ('chick', 714), ('one', 700), ('oh', 682), ('open', 679), ('window', 670), ('good', 644), ('bookmarks', 598), ('teen', 587), ('well', 586), ('firebird', 583), ('cell', 577), ('right', 576), ('go', 564), ('work', 537), ('bar', 536), ('menu', 530), ('tab', 529), ('lady', 524), ('toolbar', 518), ('boy', 488), ('want', 485), ('think', 484), ('browser', 484), ('jack', 483), ('bookmark', 482), ('old', 475), ('really', 473), ('going', 460), ('download', 442), ('url', 440), ('back', 434), ('time', 432), ('black', 422), ('manager', 420), ('little', 419), ('got', 409), ('crash', 396), ('would', 392), ('button', 386)]\n"
     ]
    }
   ],
   "source": [
    "Text = []\n",
    "Text.extend(webtext.words('firefox.txt'))\n",
    "Text.extend(webtext.words('grail.txt'))\n",
    "Text.extend(webtext.words('overheard.txt'))\n",
    "Text.extend(webtext.words('pirates.txt'))\n",
    "Text.extend(webtext.words('singles.txt'))\n",
    "Text.extend(webtext.words('wine.txt'))\n",
    "from collections import Counter\n",
    "web = [T.lower() for T in Text]\n",
    "from nltk.corpus import stopwords\n",
    "filter_text = [word for word in web if word not in stopwords.words('english')]\n",
    "webtxt = []\n",
    "for p in filter_text:\n",
    "    if p.isalpha():\n",
    "        webtxt.append(p)\n",
    "from collections import Counter\n",
    "webtext_words = Counter(webtxt)\n",
    "top_50_webtext = webtext_words.most_common(50)\n",
    "print(\"Top 50 words from Webtext :\\n\",top_50_webtext)\n"
   ]
  },
  {
   "cell_type": "code",
   "execution_count": 12,
   "metadata": {
    "collapsed": false
   },
   "outputs": [
    {
     "name": "stdout",
     "output_type": "stream",
     "text": [
      "[('haue', 448), ('vpon', 162), ('brutus', 162), ('bru', 153), ('hath', 144)]\n"
     ]
    }
   ],
   "source": [
    "unused_list = [t for t in sh if t not in webtxt]\n",
    "g = Counter(unused_list)\n",
    "Top_5 = g.most_common(5)\n",
    "print(Top_5)"
   ]
  },
  {
   "cell_type": "code",
   "execution_count": null,
   "metadata": {
    "collapsed": true
   },
   "outputs": [],
   "source": []
  }
 ],
 "metadata": {
  "kernelspec": {
   "display_name": "Python 3",
   "language": "python",
   "name": "python3"
  },
  "language_info": {
   "codemirror_mode": {
    "name": "ipython",
    "version": 3
   },
   "file_extension": ".py",
   "mimetype": "text/x-python",
   "name": "python",
   "nbconvert_exporter": "python",
   "pygments_lexer": "ipython3",
   "version": "3.5.2"
  }
 },
 "nbformat": 4,
 "nbformat_minor": 2
}

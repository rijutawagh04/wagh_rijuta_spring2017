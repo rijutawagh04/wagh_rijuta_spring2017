{
 "cells": [
  {
   "cell_type": "markdown",
   "metadata": {},
   "source": [
    "Zipf’s law:     r * freq = A * N r = word rank freq = word frequency A = constant. N = total number of words in collections \n",
    "Learn and understand Zipf’s Law. \n",
    " Pick any file (or files) in NLTK package.\n",
    " Prove if Zipf’s Law works in Natural Language or not. "
   ]
  },
  {
   "cell_type": "code",
   "execution_count": 10,
   "metadata": {
    "collapsed": false,
    "scrolled": true
   },
   "outputs": [
    {
     "name": "stdout",
     "output_type": "stream",
     "text": [
      "['1789-Washington.txt', '1793-Washington.txt', '1797-Adams.txt', '1801-Jefferson.txt', '1805-Jefferson.txt', '1809-Madison.txt', '1813-Madison.txt', '1817-Monroe.txt', '1821-Monroe.txt', '1825-Adams.txt', '1829-Jackson.txt', '1833-Jackson.txt', '1837-VanBuren.txt', '1841-Harrison.txt', '1845-Polk.txt', '1849-Taylor.txt', '1853-Pierce.txt', '1857-Buchanan.txt', '1861-Lincoln.txt', '1865-Lincoln.txt', '1869-Grant.txt', '1873-Grant.txt', '1877-Hayes.txt', '1881-Garfield.txt', '1885-Cleveland.txt', '1889-Harrison.txt', '1893-Cleveland.txt', '1897-McKinley.txt', '1901-McKinley.txt', '1905-Roosevelt.txt', '1909-Taft.txt', '1913-Wilson.txt', '1917-Wilson.txt', '1921-Harding.txt', '1925-Coolidge.txt', '1929-Hoover.txt', '1933-Roosevelt.txt', '1937-Roosevelt.txt', '1941-Roosevelt.txt', '1945-Roosevelt.txt', '1949-Truman.txt', '1953-Eisenhower.txt', '1957-Eisenhower.txt', '1961-Kennedy.txt', '1965-Johnson.txt', '1969-Nixon.txt', '1973-Nixon.txt', '1977-Carter.txt', '1981-Reagan.txt', '1985-Reagan.txt', '1989-Bush.txt', '1993-Clinton.txt', '1997-Clinton.txt', '2001-Bush.txt', '2005-Bush.txt', '2009-Obama.txt']\n"
     ]
    }
   ],
   "source": [
    "import nltk\n",
    "from nltk.corpus import inaugural\n",
    "print(inaugural.fileids())\n",
    "import glob"
   ]
  },
  {
   "cell_type": "code",
   "execution_count": 11,
   "metadata": {
    "collapsed": false
   },
   "outputs": [],
   "source": [
    "path =  nltk.data.find('corpora/inaugural/2009-Obama.txt')\n",
    "data = glob.glob(path)\n",
    "for words in data:\n",
    "    with open(words) as text:\n",
    "        t = text.read()  "
   ]
  },
  {
   "cell_type": "code",
   "execution_count": 12,
   "metadata": {
    "collapsed": false,
    "scrolled": true
   },
   "outputs": [
    {
     "name": "stdout",
     "output_type": "stream",
     "text": [
      "1895\n"
     ]
    }
   ],
   "source": [
    "import re\n",
    "words = re.findall(r'(\\b[A-Za-z][a-z]{2,9}\\b)',t )\n",
    "\n",
    "#print(words)\n",
    "N = len(words) # N = total number of words in the file\n",
    "print(N)\n"
   ]
  },
  {
   "cell_type": "code",
   "execution_count": 13,
   "metadata": {
    "collapsed": false
   },
   "outputs": [
    {
     "name": "stdout",
     "output_type": "stream",
     "text": [
      "Words and their frequency is : [('the', 126), ('and', 105), ('our', 58), ('that', 48), ('are', 22), ('this', 20), ('will', 19), ('but', 17), ('have', 16), ('not', 16), ('for', 15), ('who', 14), ('has', 14), ('you', 14), ('can', 13), ('nation', 12), ('with', 11), ('new', 11), ('they', 11), ('those', 10), ('America', 10), ('Our', 9), ('The', 9), ('their', 9), ('For', 8), ('must', 8), ('than', 8), ('every', 8), ('been', 8), ('because', 8), ('its', 7), ('all', 7), ('these', 7), ('when', 7), ('world', 7), ('less', 6), ('cannot', 6), ('too', 6), ('people', 6), ('They', 6), ('common', 6), ('And', 6), ('work', 6), ('from', 5), ('day', 5), ('what', 5), ('generation', 5), ('time', 5), ('now', 5), ('more', 5), ('only', 5), ('today', 5), ('know', 5), ('God', 5), ('let', 5), ('spirit', 5), ('was', 5), ('them', 4), ('seek', 4), ('whether', 4), ('before', 4), ('long', 4), ('peace', 4), ('nor', 4), ('greater', 4), ('which', 4), ('women', 4), ('crisis', 4), ('hard', 4), ('meet', 4), ('men', 4), ('end', 4), ('words', 4), ('come', 4), ('This', 4), ('through', 4), ('far', 4), ('power', 4), ('things', 4), ('carried', 3), ('jobs', 3), ('across', 3), ('freedom', 3), ('nations', 3), ('hope', 3), ('What', 3), ('say', 3), ('children', 3), ('off', 3), ('moment', 3), ('man', 3), ('history', 3), ('between', 3), ('life', 3), ('many', 3), ('small', 3), ('there', 3), ('last', 3), ('most', 3), ('ourselves', 3), ('upon', 3), ('But', 3), ('Americans', 3), ('force', 3), ('courage', 3), ('journey', 3), ('over', 3), ('some', 3), ('just', 3), ('father', 3), ('ideals', 3), ('shall', 3), ('forward', 3), ('your', 3), ('economy', 3), ('out', 3), ('oath', 3), ('care', 3), ('were', 3), ('prosperity', 3), ('question', 3), ('old', 3), ('future', 3), ('once', 3), ('may', 3), ('government', 3), ('birth', 2), ('duties', 2), ('afford', 2), ('waters', 2), ('hours', 2), ('mutual', 2), ('grows', 2), ('feed', 2), ('build', 2), ('promise', 2), ('calls', 2), ('done', 2), ('service', 2), ('extend', 2), ('well', 2), ('make', 2), ('purpose', 2), ('bless', 2), ('greatness', 2), ('confidence', 2), ('take', 2), ('success', 2), ('part', 2), ('often', 2), ('liberty', 2), ('lower', 2), ('longer', 2), ('traveled', 2), ('then', 2), ('still', 2), ('lines', 2), ('planet', 2), ('answer', 2), ('enduring', 2), ('task', 2), ('find', 2), ('prosperous', 2), ('remain', 2), ('back', 2), ('fail', 2), ('With', 2), ('without', 2), ('face', 2), ('storms', 2), ('health', 2), ('taken', 2), ('throughout', 2), ('again', 2), ('given', 2), ('era', 2), ('like', 2), ('stronger', 2), ('true', 2), ('good', 2), ('nothing', 2), ('big', 2), ('even', 2), ('remember', 2), ('war', 2), ('These', 2), ('icy', 2), ('also', 2), ('schools', 2), ('understood', 2), ('blood', 2), ('stand', 2), ('false', 2), ('fear', 2), ('wealth', 2), ('faced', 2), ('year', 2), ('way', 2), ('play', 2), ('met', 2), ('each', 2), ('why', 2), ('American', 2), ('West', 2), ('child', 2), ('age', 2), ('virtue', 2), ('All', 2), ('understand', 2), ('rather', 2), ('friend', 2), ('challenges', 2), ('meaning', 2), ('ambitions', 2), ('faith', 2), ('knowledge', 2), ('did', 2), ('short', 2), ('Earth', 2), ('one', 2), ('never', 2), ('forth', 2), ('path', 2), ('willing', 2), ('Let', 2), ('market', 2), ('defense', 2), ('trust', 2), ('Where', 2), ('passed', 2), ('workers', 2), ('charter', 2), ('use', 2), ('gift', 2), ('winter', 2), ('might', 2), ('free', 2), ('something', 2), ('brave', 2), ('country', 2), ('earned', 2), ('minds', 2), ('better', 2), ('conflict', 2), ('restore', 2), ('begin', 2), ('light', 2), ('mall', 1), ('habits', 1), ('ushering', 1), ('civil', 1), ('give', 1), ('idea', 1), ('wisely', 1), ('President', 1), ('mountains', 1), ('non', 1), ('expedience', 1), ('around', 1), ('skill', 1), ('cynics', 1), ('survive', 1), ('local', 1), ('helps', 1), ('bind', 1), ('energy', 1), ('sum', 1), ('endured', 1), ('soon', 1), ('ill', 1), ('surest', 1), ('noble', 1), ('safely', 1), ('Founding', 1), ('dying', 1), ('destiny', 1), ('source', 1), ('wonders', 1), ('families', 1), ('enjoy', 1), ('consider', 1), ('People', 1), ('fellow', 1), ('choose', 1), ('violence', 1), ('forbearers', 1), ('prepare', 1), ('indicators', 1), ('someday', 1), ('Bush', 1), ('size', 1), ('land', 1), ('great', 1), ('band', 1), ('Forty', 1), ('Now', 1), ('measure', 1), ('honor', 1), ('hour', 1), ('shape', 1), ('technology', 1), ('badly', 1), ('united', 1), ('hearted', 1), ('young', 1), ('mark', 1), ('wage', 1), ('regard', 1), ('public', 1), ('told', 1), ('remains', 1), ('stale', 1), ('began', 1), ('quiet', 1), ('span', 1), ('patrol', 1), ('capacity', 1), ('petty', 1), ('Starting', 1), ('emerged', 1), ('network', 1), ('Yet', 1), ('borne', 1), ('storm', 1), ('difficult', 1), ('cling', 1), ('danger', 1), ('tides', 1), ('precisely', 1), ('oceans', 1), ('digital', 1), ('stairway', 1), ('leave', 1), ('effort', 1), ('consumed', 1), ('filled', 1), ('greed', 1), ('served', 1), ('four', 1), ('former', 1), ('race', 1), ('individual', 1), ('outside', 1), ('progress', 1), ('outcome', 1), ('eye', 1), ('honesty', 1), ('depth', 1), ('sacrifices', 1), ('earlier', 1), ('shaped', 1), ('poor', 1), ('shuttered', 1), ('gathering', 1), ('Today', 1), ('Homes', 1), ('dissent', 1), ('Concord', 1), ('borders', 1), ('inhabit', 1), ('faithful', 1), ('Khe', 1), ('ordered', 1), ('reach', 1), ('statistics', 1), ('sacred', 1), ('grandest', 1), ('works', 1), ('bridges', 1), ('flow', 1), ('values', 1), ('intend', 1), ('arguments', 1), ('grateful', 1), ('required', 1), ('plenty', 1), ('bad', 1), ('decline', 1), ('pass', 1), ('run', 1), ('grudgingly', 1), ('lessen', 1), ('move', 1), ('foundation', 1), ('forgotten', 1), ('office', 1), ('month', 1), ('collective', 1), ('brings', 1), ('farms', 1), ('decisions', 1), ('reject', 1), ('raise', 1), ('Normandy', 1), ('forge', 1), ('emanates', 1), ('failure', 1), ('much', 1), ('ask', 1), ('reminded', 1), ('founding', 1), ('fair', 1), ('faint', 1), ('alliances', 1), ('ago', 1), ('needed', 1), ('rising', 1), ('silencing', 1), ('advancing', 1), ('ground', 1), ('colleges', 1), ('chosen', 1), ('hand', 1), ('alongside', 1), ('standing', 1), ('interests', 1), ('Their', 1), ('grievances', 1), ('deceit', 1), ('broken', 1), ('easily', 1), ('security', 1), ('deserve', 1), ('bold', 1), ('defining', 1), ('very', 1), ('dark', 1), ('guardians', 1), ('effect', 1), ('shown', 1), ('does', 1), ('makers', 1), ('precious', 1), ('uncertain', 1), ('ages', 1), ('further', 1), ('city', 1), ('system', 1), ('childish', 1), ('ways', 1), ('carry', 1), ('fuel', 1), ('alarmed', 1), ('tested', 1), ('defeat', 1), ('watching', 1), ('search', 1), ('unmatched', 1), ('other', 1), ('how', 1), ('winds', 1), ('cause', 1), ('here', 1), ('born', 1), ('deserts', 1), ('growth', 1), ('embody', 1), ('lash', 1), ('fist', 1), ('expand', 1), ('action', 1), ('warming', 1), ('labor', 1), ('define', 1), ('worn', 1), ('Those', 1), ('retirement', 1), ('Instead', 1), ('heroes', 1), ('bitter', 1), ('Nor', 1), ('Product', 1), ('months', 1), ('till', 1), ('levees', 1), ('nurture', 1), ('leaders', 1), ('decides', 1), ('down', 1), ('job', 1), ('help', 1), ('unpleasant', 1), ('Thank', 1), ('bigger', 1), ('patriotism', 1), ('currents', 1), ('Christians', 1), ('putting', 1), ('serious', 1), ('state', 1), ('roll', 1), ('raw', 1), ('gladly', 1), ('unclench', 1), ('pledge', 1), ('humbled', 1), ('enemy', 1), ('weakened', 1), ('could', 1), ('capital', 1), ('Iraq', 1), ('break', 1), ('against', 1), ('where', 1), ('transition', 1), ('obscure', 1), ('achieve', 1), ('pleasures', 1), ('fixed', 1), ('tasted', 1), ('rightful', 1), ('foes', 1), ('endure', 1), ('humble', 1), ('remained', 1), ('peoples', 1), ('drafted', 1), ('measurable', 1), ('Gettysburg', 1), ('Less', 1), ('seize', 1), ('dogmas', 1), ('swift', 1), ('alone', 1), ('programs', 1), ('missiles', 1), ('set', 1), ('already', 1), ('few', 1), ('sake', 1), ('whip', 1), ('States', 1), ('based', 1), ('starved', 1), ('rugged', 1), ('innocents', 1), ('tribe', 1), ('threats', 1), ('strangled', 1), ('turn', 1), ('relies', 1), ('plans', 1), ('moments', 1), ('perils', 1), ('revolution', 1), ('accept', 1), ('died', 1), ('flourish', 1), ('see', 1), ('ultimately', 1), ('interest', 1), ('friends', 1), ('dangers', 1), ('charity', 1), ('quality', 1), ('cut', 1), ('village', 1), ('demand', 1), ('destroy', 1), ('years', 1), ('whose', 1), ('businesses', 1), ('sow', 1), ('Gross', 1), ('real', 1), ('nourish', 1), ('tanks', 1), ('bodies', 1), ('principles', 1), ('legacy', 1), ('example', 1), ('loyalty', 1), ('culture', 1), ('plowed', 1), ('specter', 1), ('side', 1), ('wrong', 1), ('sweatshops', 1), ('fate', 1), ('fought', 1), ('threat', 1), ('restaurant', 1), ('abandoned', 1), ('strengthen', 1), ('Sahn', 1), ('snow', 1), ('lead', 1), ('justness', 1), ('held', 1), ('sturdy', 1), ('faction', 1), ('read', 1), ('lay', 1), ('strength', 1), ('amidst', 1), ('vision', 1), ('together', 1), ('huddled', 1), ('horizon', 1), ('data', 1), ('dissolve', 1), ('refused', 1), ('distant', 1), ('prefer', 1), ('itself', 1), ('law', 1), ('during', 1), ('inevitable', 1), ('stranger', 1), ('account', 1), ('services', 1), ('promises', 1), ('profound', 1), ('costly', 1), ('everywhere', 1), ('raging', 1), ('consume', 1), ('favors', 1), ('smaller', 1), ('Rather', 1), ('narrow', 1), ('hatreds', 1), ('live', 1), ('firm', 1), ('That', 1), ('choices', 1), ('memories', 1), ('would', 1), ('scale', 1), ('aims', 1), ('hatred', 1), ('remaking', 1), ('protecting', 1), ('settling', 1), ('safety', 1), ('look', 1), ('towards', 1), ('nagging', 1), ('politics', 1), ('surely', 1), ('always', 1), ('cars', 1), ('control', 1), ('lost', 1), ('inventive', 1), ('Arlington', 1), ('productive', 1), ('character', 1), ('soil', 1), ('pursue', 1), ('whisper', 1), ('dust', 1), ('clouds', 1), ('tell', 1), ('Time', 1), ('joined', 1), ('believe', 1), ('shed', 1), ('apologize', 1), ('ours', 1), ('said', 1), ('swill', 1), ('patriots', 1), ('subject', 1), ('generosity', 1), ('reaching', 1), ('scarcely', 1), ('advance', 1), ('takers', 1), ('worked', 1), ('next', 1), ('create', 1), ('pat', 1), ('drawn', 1), ('Guided', 1), ('unfolds', 1), ('depended', 1), ('midst', 1), ('settled', 1), ('Scripture', 1), ('role', 1), ('tolerate', 1), ('judge', 1), ('rule', 1), ('kindness', 1), ('necessity', 1), ('prudent', 1), ('documents', 1), ('parent', 1), ('woman', 1), ('mindful', 1), ('sixty', 1), ('grace', 1), ('gratitude', 1), ('join', 1), ('Domestic', 1), ('lie', 1), ('outlast', 1), ('high', 1), ('earth', 1), ('inducing', 1), ('sights', 1), ('terror', 1), ('roads', 1), ('changed', 1), ('watchful', 1), ('reaffirm', 1), ('science', 1), ('yet', 1), ('leisure', 1), ('entitle', 1), ('hands', 1), ('assure', 1), ('grids', 1), ('patchwork', 1), ('giving', 1), ('happiness', 1), ('prosper', 1), ('lose', 1), ('spin', 1), ('bestowed', 1), ('dignified', 1), ('believers', 1), ('delivered', 1), ('ills', 1), ('heart', 1), ('powerful', 1), ('shores', 1), ('struggled', 1), ('humility', 1), ('factories', 1), ('fame', 1), ('doubt', 1), ('generate', 1), ('falter', 1), ('blame', 1), ('dollars', 1), ('Muslim', 1), ('expanded', 1), ('demanded', 1), ('electric', 1), ('packed', 1), ('business', 1), ('curiosity', 1), ('worldly', 1), ('qualities', 1), ('spoken', 1), ('risk', 1), ('decent', 1), ('citizens', 1), ('weakness', 1), ('society', 1), ('yes', 1), ('knew', 1), ('United', 1), ('stained', 1), ('heritage', 1), ('humanity', 1), ('simply', 1), ('ability', 1), ('act', 1), ('waver', 1), ('change', 1), ('corruption', 1), ('reveal', 1), ('globe', 1), ('political', 1), ('saw', 1), ('week', 1), ('vital', 1), ('choice', 1), ('seeks', 1), ('commerce', 1), ('road', 1), ('communism', 1), ('timeless', 1), ('keepers', 1), ('nuclear', 1), ('demands', 1), ('Muslims', 1), ('discord', 1), ('ready', 1), ('wield', 1), ('satisfying', 1), ('return', 1), ('dignity', 1), ('unity', 1), ('price', 1), ('Jews', 1), ('depends', 1), ('toiled', 1), ('coldest', 1), ('proclaim', 1), ('smoke', 1), ('place', 1), ('shifted', 1), ('Fathers', 1), ('themselves', 1), ('places', 1), ('ancestors', 1), ('protect', 1), ('respect', 1), ('river', 1), ('capitals', 1), ('hungry', 1), ('tolerance', 1), ('creed', 1), ('sees', 1), ('route', 1), ('tempering', 1), ('clean', 1), ('pick', 1), ('resources', 1), ('reform', 1), ('full', 1), ('aside', 1), ('apply', 1), ('language', 1), ('fallen', 1), ('harness', 1), ('suggest', 1), ('campfires', 1), ('suffering', 1), ('manage', 1), ('Its', 1), ('Hindus', 1), ('continue', 1), ('celebrated', 1), ('Recall', 1), ('gather', 1), ('thank', 1), ('sun', 1), ('spend', 1), ('please', 1), ('eyes', 1), ('chapter', 1), ('threaten', 1), ('imagine', 1), ('riches', 1), ('cost', 1), ('fascism', 1), ('hardship', 1), ('shortcuts', 1), ('sapping', 1), ('truths', 1), ('came', 1), ('chance', 1), ('restraint', 1), ('beneath', 1), ('relative', 1), ('doers', 1), ('sacrificed', 1), ('darkest', 1), ('equal', 1), ('rights', 1), ('evidence', 1), ('goods', 1), ('his', 1), ('finally', 1), ('transform', 1), ('tirelessly', 1)]\n"
     ]
    }
   ],
   "source": [
    "d=dict()\n",
    "for c in words:\n",
    "    if c not in d:\n",
    "        d[c]=1\n",
    "    else:\n",
    "        d[c] += 1\n",
    "\n",
    "sorted_words = sorted(d.items(), key = lambda x : x[1] ,reverse = True)\n",
    "print('Words and their frequency is : ' + str(sorted_words))"
   ]
  },
  {
   "cell_type": "code",
   "execution_count": 14,
   "metadata": {
    "collapsed": false
   },
   "outputs": [],
   "source": [
    "import csv\n",
    "with open(('2009-Obama.csv'), 'w', newline=\"\") as csvfile:\n",
    "            csv_output = csv.writer(csvfile)\n",
    "            csv_output.writerow(['Word', 'Freq', 'Rank'])\n",
    "            rank = 1\n",
    "            for row in sorted_words:\n",
    "                csv_output.writerow([row[0], row[1], rank])\n",
    "                rank +=1\n",
    "                csvfile.close\n"
   ]
  },
  {
   "cell_type": "code",
   "execution_count": 21,
   "metadata": {
    "collapsed": false
   },
   "outputs": [
    {
     "data": {
      "image/png": "[encoded data removed]",
      "text/plain": [
       "<matplotlib.figure.Figure at 0x2672eb67e80>"
      ]
     },
     "metadata": {},
     "output_type": "display_data"
    }
   ],
   "source": [
    "import matplotlib.pyplot as plt\n",
    "csvfile = open('2009-Obama.csv', 'r')\n",
    "w=[]\n",
    "f=[]\n",
    "r=[]\n",
    "csv_f=csv.reader(csvfile)\n",
    "for row in csv_f:\n",
    "    w.append(row[0])\n",
    "    f.append(row[1])\n",
    "    r.append(row[2])\n",
    "r.pop(0)\n",
    "f.pop(0)\n",
    "plt.loglog(f,r,color='b',linewidth=2)\n",
    "plt.grid(True)\n",
    "plt.title(\"Zipf plot for Inaugural corpus \")\n",
    "plt.xlabel(\"Log rank\")\n",
    "plt.ylabel(\"Log frequency\")\n",
    "plt.show()"
   ]
  },
  {
   "cell_type": "code",
   "execution_count": null,
   "metadata": {
    "collapsed": true
   },
   "outputs": [],
   "source": []
  }
 ],
 "metadata": {
  "anaconda-cloud": {},
  "kernelspec": {
   "display_name": "Python 3",
   "language": "python",
   "name": "python3"
  },
  "language_info": {
   "codemirror_mode": {
    "name": "ipython",
    "version": 3
   },
   "file_extension": ".py",
   "mimetype": "text/x-python",
   "name": "python",
   "nbconvert_exporter": "python",
   "pygments_lexer": "ipython3",
   "version": "3.5.2"
  }
 },
 "nbformat": 4,
 "nbformat_minor": 1
}
